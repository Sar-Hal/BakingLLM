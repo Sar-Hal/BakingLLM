{
 "cells": [
  {
   "cell_type": "code",
   "execution_count": 9,
   "metadata": {},
   "outputs": [
    {
     "name": "stderr",
     "output_type": "stream",
     "text": [
      "c:\\Users\\KIIT0001\\AppData\\Local\\Programs\\Python\\Python311\\Lib\\site-packages\\beartype\\_util\\error\\utilerrwarn.py:67: BeartypeModuleUnimportableWarning: Ignoring module \"onnx\" importation exception:\n",
      "    ImportError: DLL load failed while importing onnx_cpp2py_export: A dynamic link library (DLL) initialization routine failed.\n",
      "  warn(message, cls)\n",
      "c:\\Users\\KIIT0001\\AppData\\Local\\Programs\\Python\\Python311\\Lib\\site-packages\\beartype\\_util\\error\\utilerrwarn.py:67: BeartypeModuleUnimportableWarning: Ignoring module \"onnx\" importation exception:\n",
      "    ImportError: DLL load failed while importing onnx_cpp2py_export: A dynamic link library (DLL) initialization routine failed.\n",
      "  warn(message, cls)\n"
     ]
    },
    {
     "name": "stdout",
     "output_type": "stream",
     "text": [
      "WARNING:tensorflow:From c:\\Users\\KIIT0001\\AppData\\Local\\Programs\\Python\\Python311\\Lib\\site-packages\\tf_keras\\src\\losses.py:2976: The name tf.losses.sparse_softmax_cross_entropy is deprecated. Please use tf.compat.v1.losses.sparse_softmax_cross_entropy instead.\n",
      "\n",
      "[]\n"
     ]
    }
   ],
   "source": [
    "from transformers import pipeline\n",
    "\n",
    "# Load your fine-tuned model\n",
    "ingredient_ner = pipeline(\n",
    "    \"token-classification\",\n",
    "    model=\"./fine_tuned_distilbert\",  # Path to your model dir\n",
    "    tokenizer=\"./fine_tuned_distilbert\"  # Same for tokenizer\n",
    ")\n",
    "\n",
    "def extract_ingredients(text: str) -> list:\n",
    "    \"\"\"Extract structured ingredients from recipe text\"\"\"\n",
    "    predictions = ingredient_ner(text)\n",
    "    \n",
    "    # Group tokens into ingredients (simplified example)\n",
    "    ingredients = []\n",
    "    current = {\"name\": \"\", \"amount\": \"\", \"unit\": \"\"}\n",
    "    \n",
    "    for pred in predictions:\n",
    "        word = text[pred[\"start\"]:pred[\"end\"]]\n",
    "        \n",
    "        if pred[\"entity\"] == \"B-INGREDIENT\":\n",
    "            if current[\"name\"]:  # Save previous ingredient\n",
    "                ingredients.append(current)\n",
    "                current = {\"name\": \"\", \"amount\": \"\", \"unit\": \"\"}\n",
    "            current[\"name\"] = word\n",
    "        elif pred[\"entity\"] == \"I-INGREDIENT\":\n",
    "            current[\"name\"] += \" \" + word\n",
    "        elif pred[\"entity\"] == \"AMOUNT\":\n",
    "            current[\"amount\"] = word\n",
    "        elif pred[\"entity\"] == \"UNIT\":\n",
    "            current[\"unit\"] = word\n",
    "    \n",
    "    if current[\"name\"]:\n",
    "        ingredients.append(current)\n",
    "    \n",
    "    return ingredients\n",
    "\n",
    "recipe_text = \"2 cups flour, 1 tbsp sugar, and 3 tsp vanilla extract\"\n",
    "ingredients = extract_ingredients(recipe_text)\n",
    "print(ingredients)"
   ]
  },
  {
   "cell_type": "code",
   "execution_count": 10,
   "metadata": {},
   "outputs": [
    {
     "name": "stdout",
     "output_type": "stream",
     "text": [
      "[{'entity': 'LABEL_0', 'score': 0.9986431, 'index': 1, 'word': '2', 'start': 0, 'end': 1}, {'entity': 'LABEL_0', 'score': 0.99876547, 'index': 2, 'word': 'cups', 'start': 2, 'end': 6}, {'entity': 'LABEL_0', 'score': 0.9987097, 'index': 3, 'word': 'flour', 'start': 7, 'end': 12}]\n"
     ]
    }
   ],
   "source": [
    "from transformers import pipeline\n",
    "\n",
    "# Try this diagnostic check\n",
    "ner = pipeline(\n",
    "    \"token-classification\", \n",
    "    model=\"./fine_tuned_distilbert\",\n",
    "    tokenizer=\"./fine_tuned_distilbert\"\n",
    ")\n",
    "\n",
    "# Test on a simple input\n",
    "print(ner(\"2 cups flour\"))  # Should return SOMETHING"
   ]
  },
  {
   "cell_type": "code",
   "execution_count": null,
   "metadata": {},
   "outputs": [],
   "source": []
  }
 ],
 "metadata": {
  "kernelspec": {
   "display_name": "Python 3",
   "language": "python",
   "name": "python3"
  },
  "language_info": {
   "codemirror_mode": {
    "name": "ipython",
    "version": 3
   },
   "file_extension": ".py",
   "mimetype": "text/x-python",
   "name": "python",
   "nbconvert_exporter": "python",
   "pygments_lexer": "ipython3",
   "version": "3.11.5"
  }
 },
 "nbformat": 4,
 "nbformat_minor": 2
}
