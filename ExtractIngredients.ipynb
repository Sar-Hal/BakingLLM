{
 "cells": [
  {
   "cell_type": "code",
   "execution_count": null,
   "metadata": {},
   "outputs": [
    {
     "name": "stdout",
     "output_type": "stream",
     "text": [
      "Extracted Ingredients:\n"
     ]
    }
   ],
   "source": [
    "import torch\n",
    "from transformers import AutoTokenizer, AutoModelForTokenClassification\n",
    "\n",
    "# Load the fine-tuned DistilBERT model and tokenizer\n",
    "model_name = './fine_tuned_distilbert'  # Path to your fine-tuned model folder\n",
    "tokenizer = AutoTokenizer.from_pretrained(model_name)\n",
    "model = AutoModelForTokenClassification.from_pretrained(model_name)\n",
    "\n",
    "# Define label mappings (adjust based on your training labels)\n",
    "id2label = {0: \"O\", 1: \"B-QUANTITY\", 2: \"I-QUANTITY\", 3: \"B-UNIT\", 4: \"I-UNIT\", 5: \"B-FOOD\", 6: \"I-FOOD\"}\n",
    "label2id = {v: k for k, v in id2label.items()}\n",
    "\n",
    "# Function to extract structured ingredients from recipe text\n",
    "def extract_ingredients(text):\n",
    "    # Tokenize the input text\n",
    "    inputs = tokenizer(text, return_tensors=\"pt\")\n",
    "    \n",
    "    # Perform inference using the fine-tuned model\n",
    "    outputs = model(**inputs)\n",
    "    predictions = torch.argmax(outputs.logits, dim=-1)\n",
    "    \n",
    "    # Decode tokens and their corresponding labels\n",
    "    tokens = tokenizer.convert_ids_to_tokens(inputs[\"input_ids\"][0])\n",
    "    entities = [id2label[pred.item()] for pred in predictions[0]]\n",
    "    \n",
    "    # Combine tokens and labels into a structured format\n",
    "    results = []\n",
    "    current_entity = {\"type\": None, \"text\": \"\"}\n",
    "    \n",
    "    for token, label in zip(tokens, entities):\n",
    "        if label == \"O\":\n",
    "            if current_entity[\"type\"]:\n",
    "                results.append(current_entity)\n",
    "                current_entity = {\"type\": None, \"text\": \"\"}\n",
    "        else:\n",
    "            entity_type = label.split(\"-\")[1]\n",
    "            if current_entity[\"type\"] == entity_type:\n",
    "                current_entity[\"text\"] += f\" {token}\"\n",
    "            else:\n",
    "                if current_entity[\"type\"]:\n",
    "                    results.append(current_entity)\n",
    "                current_entity = {\"type\": entity_type, \"text\": token}\n",
    "    \n",
    "    if current_entity[\"type\"]:\n",
    "        results.append(current_entity)\n",
    "    \n",
    "    return results\n",
    "\n",
    "# Test the model on a sample recipe text\n",
    "recipe_text = \"Mix 2 cups of flour with 1 tsp salt\"\n",
    "extracted_ingredients = extract_ingredients(recipe_text)\n",
    "\n",
    "# Print extracted ingredients\n",
    "print(\"Extracted Ingredients:\")\n",
    "for entity in extracted_ingredients:\n",
    "    print(f\"{entity['type']}: {entity['text']}\")\n"
   ]
  }
 ],
 "metadata": {
  "kernelspec": {
   "display_name": "Python 3",
   "language": "python",
   "name": "python3"
  },
  "language_info": {
   "codemirror_mode": {
    "name": "ipython",
    "version": 3
   },
   "file_extension": ".py",
   "mimetype": "text/x-python",
   "name": "python",
   "nbconvert_exporter": "python",
   "pygments_lexer": "ipython3",
   "version": "3.11.5"
  }
 },
 "nbformat": 4,
 "nbformat_minor": 2
}
