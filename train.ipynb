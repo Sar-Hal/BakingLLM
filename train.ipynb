{
 "cells": [
  {
   "cell_type": "code",
   "execution_count": null,
   "metadata": {},
   "outputs": [
    {
     "name": "stderr",
     "output_type": "stream",
     "text": [
      "c:\\Users\\KIIT0001\\AppData\\Local\\Programs\\Python\\Python311\\Lib\\site-packages\\transformers\\tokenization_utils_base.py:1601: FutureWarning: `clean_up_tokenization_spaces` was not set. It will be set to `True` by default. This behavior will be depracted in transformers v4.45, and will be then set to `False` by default. For more details check this issue: https://github.com/huggingface/transformers/issues/31884\n",
      "  warnings.warn(\n"
     ]
    },
    {
     "data": {
      "application/vnd.jupyter.widget-view+json": {
       "model_id": "ba03ba75ebb544608619fa809d324ed6",
       "version_major": 2,
       "version_minor": 0
      },
      "text/plain": [
       "Map:   0%|          | 0/1000 [00:00<?, ? examples/s]"
      ]
     },
     "metadata": {},
     "output_type": "display_data"
    },
    {
     "name": "stdout",
     "output_type": "stream",
     "text": [
      "Training set size: 800\n",
      "Validation set size: 200\n"
     ]
    },
    {
     "name": "stderr",
     "output_type": "stream",
     "text": [
      "Some weights of DistilBertForTokenClassification were not initialized from the model checkpoint at distilbert-base-uncased and are newly initialized: ['classifier.bias', 'classifier.weight']\n",
      "You should probably TRAIN this model on a down-stream task to be able to use it for predictions and inference.\n",
      "c:\\Users\\KIIT0001\\AppData\\Local\\Programs\\Python\\Python311\\Lib\\site-packages\\transformers\\training_args.py:1525: FutureWarning: `evaluation_strategy` is deprecated and will be removed in version 4.46 of 🤗 Transformers. Use `eval_strategy` instead\n",
      "  warnings.warn(\n"
     ]
    }
   ],
   "source": [
    "import pandas as pd\n",
    "import ast\n",
    "from datasets import Dataset\n",
    "from transformers import AutoTokenizer, AutoModelForTokenClassification, TrainingArguments, Trainer\n",
    "import torch\n",
    "\n",
    "# --- Step 1: Load and Preprocess the Dataset ---\n",
    "# Load the dataset\n",
    "dataset = pd.read_csv(\"TASTEset.csv\")\n",
    "\n",
    "# Parse the entities column (convert JSON-like strings to Python dictionaries)\n",
    "def parse_entities(row):\n",
    "    try:\n",
    "        return ast.literal_eval(row[\"ingredients_entities\"])\n",
    "    except Exception as e:\n",
    "        print(f\"Error parsing row: {row['ingredients_entities']}\")\n",
    "        return []\n",
    "\n",
    "dataset[\"entities\"] = dataset.apply(parse_entities, axis=1)\n",
    "\n",
    "# Convert pandas DataFrame to Hugging Face Dataset\n",
    "hf_dataset = Dataset.from_pandas(dataset)\n",
    "\n",
    "# --- Step 2: Tokenize and Align Labels ---\n",
    "# Initialize tokenizer and model\n",
    "model_name = \"distilbert-base-uncased\"\n",
    "tokenizer = AutoTokenizer.from_pretrained(model_name)\n",
    "\n",
    "# Define label mappings\n",
    "label2id = {\"O\": 0, \"B-QUANTITY\": 1, \"I-QUANTITY\": 2, \"B-UNIT\": 3, \"I-UNIT\": 4, \"B-FOOD\": 5, \"I-FOOD\": 6}\n",
    "id2label = {v: k for k, v in label2id.items()}\n",
    "\n",
    "def tokenize_and_align_labels(examples):\n",
    "    tokenized_inputs = tokenizer(examples[\"ingredients\"], truncation=True, padding=\"max_length\", max_length=128)\n",
    "    labels = []\n",
    "    \n",
    "    for i, entity_list in enumerate(examples[\"entities\"]):\n",
    "        word_ids = tokenized_inputs.word_ids(batch_index=i)  # Map tokens to words\n",
    "        label_ids = []\n",
    "        \n",
    "        for word_idx in word_ids:\n",
    "            if word_idx is None:\n",
    "                label_ids.append(-100)  # Ignore special tokens\n",
    "            elif word_idx < len(entity_list):  # Ensure index is within bounds\n",
    "                label_ids.append(label2id.get(entity_list[word_idx][\"type\"], 0))  # Default to \"O\"\n",
    "            else:\n",
    "                label_ids.append(0)  # Default to \"O\" for out-of-bound indices\n",
    "        \n",
    "        labels.append(label_ids)\n",
    "    \n",
    "    tokenized_inputs[\"labels\"] = labels\n",
    "    return tokenized_inputs\n",
    "\n",
    "tokenized_dataset = hf_dataset.map(tokenize_and_align_labels, batched=True)\n",
    "\n",
    "# --- Step 3: Split Dataset into Train and Validation ---\n",
    "split_dataset = tokenized_dataset.train_test_split(test_size=0.2, seed=42)\n",
    "train_dataset = split_dataset[\"train\"]\n",
    "val_dataset = split_dataset[\"test\"]\n",
    "\n",
    "print(f\"Training set size: {len(train_dataset)}\")\n",
    "print(f\"Validation set size: {len(val_dataset)}\")\n",
    "\n",
    "# --- Step 4: Fine-Tune DistilBERT ---\n",
    "# Load DistilBERT with a classification head\n",
    "model = AutoModelForTokenClassification.from_pretrained(model_name, num_labels=len(label2id))\n",
    "\n",
    "# Define training arguments\n",
    "training_args = TrainingArguments(\n",
    "    output_dir=\"./results\",\n",
    "    evaluation_strategy=\"epoch\",\n",
    "    learning_rate=2e-5,\n",
    "    per_device_train_batch_size=16,\n",
    "    per_device_eval_batch_size=16,\n",
    "    num_train_epochs=3,\n",
    "    weight_decay=0.01,\n",
    ")\n",
    "\n",
    "# Initialize Trainer\n",
    "trainer = Trainer(\n",
    "    model=model,\n",
    "    args=training_args,\n",
    "    train_dataset=train_dataset,\n",
    "    eval_dataset=val_dataset,\n",
    "    tokenizer=tokenizer,\n",
    ")\n",
    "\n",
    "# Train the model\n",
    "trainer.train()\n",
    "\n",
    "# Save the trained model\n",
    "model.save_pretrained(\"./fine_tuned_distilbert\")\n",
    "tokenizer.save_pretrained(\"./fine_tuned_distilbert\")\n",
    "\n",
    "# --- Step 5: Test the Model ---\n",
    "def extract_ingredients(text):\n",
    "    inputs = tokenizer(text, return_tensors=\"pt\")\n",
    "    outputs = model(**inputs)\n",
    "    predictions = torch.argmax(outputs.logits, dim=-1)\n",
    "    \n",
    "    tokens = tokenizer.convert_ids_to_tokens(inputs[\"input_ids\"][0])\n",
    "    entities = [id2label[pred.item()] for pred in predictions[0]]\n",
    "    \n",
    "    return list(zip(tokens, entities))\n",
    "\n",
    "recipe_text = \"Mix 2 cups of flour with 1 tsp salt\"\n",
    "print(extract_ingredients(recipe_text))\n"
   ]
  }
 ],
 "metadata": {
  "kernelspec": {
   "display_name": "Python 3",
   "language": "python",
   "name": "python3"
  },
  "language_info": {
   "codemirror_mode": {
    "name": "ipython",
    "version": 3
   },
   "file_extension": ".py",
   "mimetype": "text/x-python",
   "name": "python",
   "nbconvert_exporter": "python",
   "pygments_lexer": "ipython3",
   "version": "3.11.5"
  }
 },
 "nbformat": 4,
 "nbformat_minor": 2
}
