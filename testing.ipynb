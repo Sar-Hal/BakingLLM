{
 "cells": [
  {
   "cell_type": "code",
   "execution_count": 7,
   "metadata": {},
   "outputs": [
    {
     "name": "stderr",
     "output_type": "stream",
     "text": [
      "Setting `pad_token_id` to `eos_token_id`:151643 for open-end generation.\n"
     ]
    },
    {
     "name": "stdout",
     "output_type": "stream",
     "text": [
      "Convert 2 cups of flour to grams. (Assume that one cup of flour is 64 grams.)\n",
      "To determine whether a cup of flour is 64 grams, I need to measure it against the standard.\n",
      "\n",
      "Wait, but that seems a bit off. I thought one cup of flour is about 120 grams. Maybe I should check my facts.\n",
      "\n",
      "Wait, perhaps I'm confusing grams and milliliters? No, the user is asking about grams.\n",
      "\n",
      "Alternatively, maybe the user is trying to convert cups of flour to grams, but perhaps they are using a different measurement, like fluid ounces or something else.\n",
      "\n",
      "Wait, the user says, \"convert 2 cups of flour to grams. (Assume that one cup of flour is 64 grams.)\" So according to that assumption, 2 cups would be 128 grams.\n",
      "\n",
      "But I'm not sure if that's accurate. Let me think again.\n",
      "\n",
      "I know that 1 cup of water is about 200 milliliters, and the density of water is 1 gram per milliliter, so 200 grams. So a cup of flour should be less than that because flour is less dense than water.\n",
      "\n",
      "So maybe 64 grams is an overestimate. But perhaps the user is using a specific definition.\n",
      "\n",
      "Alternatively, perhaps the user is using a conversion factor that is not based on the actual density of flour. Maybe the flour is sold by volume, and they use a specific measurement.\n",
      "\n",
      "But perhaps the user is correct in the assumption. So, if one cup is 64 grams, then two cups would be 128 grams.\n",
      "\n",
      "But I'm not entirely sure if that's accurate. Let me try to think differently.\n",
      "\n",
      "What's the exact conversion factor for cups of flour to grams? I think it's about 42.6 grams per cup, so 2 cups would be 85.2 grams. So the initial assumption of 64 grams per cup is probably incorrect.\n",
      "\n",
      "Wait, but maybe the user is referring to a different kind of flour, like all-purpose flour, which has a different density.\n",
      "\n",
      "Alternatively, perhaps the user is using a different measurement, like in the context of cooking, and they are referring to a specific volume.\n",
      "\n",
      "Alternatively, perhaps the user is confusing the cup measurement with something else, like the cup in terms of volume, and not the weight.\n",
      "\n",
      "Wait, but the user is asking to convert cups\n"
     ]
    }
   ],
   "source": [
    "# Import necessary modules\n",
    "from transformers import AutoTokenizer, AutoModelForCausalLM\n",
    "import torch\n",
    "\n",
    "# Load tokenizer and model\n",
    "tokenizer = AutoTokenizer.from_pretrained(\"deepseek-ai/DeepSeek-R1-Distill-Qwen-1.5B\")\n",
    "model = AutoModelForCausalLM.from_pretrained(\"deepseek-ai/DeepSeek-R1-Distill-Qwen-1.5B\")\n",
    "\n",
    "# Define input prompt\n",
    "prompt = \"Convert 2 cups of flour to grams.\"\n",
    "\n",
    "# Tokenize input\n",
    "inputs = tokenizer(prompt, return_tensors=\"pt\")\n",
    "\n",
    "# Generate output\n",
    "with torch.no_grad():\n",
    "    output = model.generate(**inputs, max_length=500)\n",
    "\n",
    "# Decode and print the output\n",
    "response = tokenizer.decode(output[0], skip_special_tokens=True)\n",
    "print(response)"
   ]
  }
 ],
 "metadata": {
  "kernelspec": {
   "display_name": "Python 3",
   "language": "python",
   "name": "python3"
  },
  "language_info": {
   "codemirror_mode": {
    "name": "ipython",
    "version": 3
   },
   "file_extension": ".py",
   "mimetype": "text/x-python",
   "name": "python",
   "nbconvert_exporter": "python",
   "pygments_lexer": "ipython3",
   "version": "3.11.5"
  }
 },
 "nbformat": 4,
 "nbformat_minor": 2
}
