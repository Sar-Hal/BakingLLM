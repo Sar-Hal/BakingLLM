{
 "cells": [
  {
   "cell_type": "code",
   "execution_count": 2,
   "metadata": {},
   "outputs": [
    {
     "name": "stderr",
     "output_type": "stream",
     "text": [
      "Device set to use cpu\n"
     ]
    },
    {
     "name": "stdout",
     "output_type": "stream",
     "text": [
      "[{'entity_group': 'AMOUNT', 'score': 0.9964065, 'word': '3', 'start': 0, 'end': 1}, {'entity_group': 'UNIT', 'score': 0.9950288, 'word': 'flour', 'start': 7, 'end': 12}, {'entity_group': 'UNIT', 'score': 0.9873297, 'word': 'and', 'start': 13, 'end': 16}, {'entity_group': 'UNIT', 'score': 0.97867626, 'word': '2', 'start': 17, 'end': 18}, {'entity_group': 'UNIT', 'score': 0.6358826, 'word': 'tbs', 'start': 19, 'end': 22}, {'entity_group': 'UNIT', 'score': 0.7788514, 'word': '##p', 'start': 22, 'end': 23}, {'entity_group': 'UNIT', 'score': 0.52295864, 'word': 'sugar', 'start': 24, 'end': 29}]\n"
     ]
    }
   ],
   "source": [
    "from transformers import pipeline\n",
    "\n",
    "# Load your fine-tuned model\n",
    "ner = pipeline(\n",
    "    \"token-classification\",\n",
    "    model=\"./recipe_ner_model\",\n",
    "    tokenizer=\"./recipe_ner_model\",\n",
    "    aggregation_strategy=\"simple\"  # Group tokens\n",
    ")\n",
    "\n",
    "# Test with new recipes\n",
    "print(ner(\"3 cups flour and 2 tbsp sugar\"))"
   ]
  },
  {
   "cell_type": "code",
   "execution_count": null,
   "metadata": {},
   "outputs": [],
   "source": []
  }
 ],
 "metadata": {
  "kernelspec": {
   "display_name": "Python 3",
   "language": "python",
   "name": "python3"
  },
  "language_info": {
   "codemirror_mode": {
    "name": "ipython",
    "version": 3
   },
   "file_extension": ".py",
   "mimetype": "text/x-python",
   "name": "python",
   "nbconvert_exporter": "python",
   "pygments_lexer": "ipython3",
   "version": "3.11.5"
  }
 },
 "nbformat": 4,
 "nbformat_minor": 2
}
