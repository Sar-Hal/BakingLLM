{
 "cells": [
  {
   "cell_type": "code",
   "execution_count": 1,
   "metadata": {},
   "outputs": [
    {
     "name": "stderr",
     "output_type": "stream",
     "text": [
      "c:\\Users\\KIIT0001\\AppData\\Local\\Programs\\Python\\Python311\\Lib\\site-packages\\beartype\\_util\\error\\utilerrwarn.py:67: BeartypeModuleUnimportableWarning: Ignoring module \"onnx\" importation exception:\n",
      "    ImportError: DLL load failed while importing onnx_cpp2py_export: A dynamic link library (DLL) initialization routine failed.\n",
      "  warn(message, cls)\n",
      "c:\\Users\\KIIT0001\\AppData\\Local\\Programs\\Python\\Python311\\Lib\\site-packages\\beartype\\_util\\error\\utilerrwarn.py:67: BeartypeModuleUnimportableWarning: Ignoring module \"onnx\" importation exception:\n",
      "    ImportError: DLL load failed while importing onnx_cpp2py_export: A dynamic link library (DLL) initialization routine failed.\n",
      "  warn(message, cls)\n"
     ]
    },
    {
     "name": "stdout",
     "output_type": "stream",
     "text": [
      "WARNING:tensorflow:From c:\\Users\\KIIT0001\\AppData\\Local\\Programs\\Python\\Python311\\Lib\\site-packages\\tf_keras\\src\\losses.py:2976: The name tf.losses.sparse_softmax_cross_entropy is deprecated. Please use tf.compat.v1.losses.sparse_softmax_cross_entropy instead.\n",
      "\n"
     ]
    },
    {
     "name": "stderr",
     "output_type": "stream",
     "text": [
      "Device set to use cpu\n"
     ]
    },
    {
     "name": "stdout",
     "output_type": "stream",
     "text": [
      "[{'entity_group': 'AMOUNT', 'score': 0.9964065, 'word': '3', 'start': 0, 'end': 1}, {'entity_group': 'UNIT', 'score': 0.9950288, 'word': 'flour', 'start': 7, 'end': 12}, {'entity_group': 'UNIT', 'score': 0.9873297, 'word': 'and', 'start': 13, 'end': 16}, {'entity_group': 'UNIT', 'score': 0.97867626, 'word': '2', 'start': 17, 'end': 18}, {'entity_group': 'UNIT', 'score': 0.6358826, 'word': 'tbs', 'start': 19, 'end': 22}, {'entity_group': 'UNIT', 'score': 0.7788514, 'word': '##p', 'start': 22, 'end': 23}, {'entity_group': 'UNIT', 'score': 0.52295864, 'word': 'sugar', 'start': 24, 'end': 29}]\n"
     ]
    }
   ],
   "source": [
    "from transformers import pipeline\n",
    "\n",
    "# Load your fine-tuned model\n",
    "ner = pipeline(\n",
    "    \"token-classification\",\n",
    "    model=\"./recipe_ner_model\",\n",
    "    tokenizer=\"./recipe_ner_model\",\n",
    "    aggregation_strategy=\"simple\"  # Group tokens\n",
    ")\n",
    "\n",
    "\n",
    "def clean_predictions(predictions):\n",
    "    cleaned = []\n",
    "    skip_next = False\n",
    "    \n",
    "    for i, pred in enumerate(predictions):\n",
    "        if skip_next:\n",
    "            skip_next = False\n",
    "            continue\n",
    "            \n",
    "        # Merge partial tokens (like 'tbs' + '##p')\n",
    "        if pred['word'].startswith('##'):\n",
    "            if cleaned and i > 0:\n",
    "                cleaned[-1]['word'] += pred['word'][2:]\n",
    "                cleaned[-1]['end'] = pred['end']\n",
    "            continue\n",
    "            \n",
    "        # Manual corrections\n",
    "        new_pred = pred.copy()\n",
    "        if pred['word'] in ['and', 'or']:\n",
    "            continue\n",
    "            \n",
    "        if pred['word'] in ['flour', 'sugar']:\n",
    "            new_pred['entity_group'] = 'INGREDIENT'\n",
    "            \n",
    "        if pred['word'] == 'tbs' and i < len(predictions)-1 and predictions[i+1]['word'] == '##p':\n",
    "            new_pred['word'] = 'tbsp'\n",
    "            new_pred['end'] = predictions[i+1]['end']\n",
    "            skip_next = True\n",
    "            \n",
    "        cleaned.append(new_pred)\n",
    "    \n",
    "    return cleaned\n",
    "raw_output = ner(\"3 cups flour and 2 tbsp sugar\")\n",
    "cleaned = clean_predictions(raw_output)\n",
    "print(cleaned)"
   ]
  }
 ],
 "metadata": {
  "kernelspec": {
   "display_name": "Python 3",
   "language": "python",
   "name": "python3"
  },
  "language_info": {
   "codemirror_mode": {
    "name": "ipython",
    "version": 3
   },
   "file_extension": ".py",
   "mimetype": "text/x-python",
   "name": "python",
   "nbconvert_exporter": "python",
   "pygments_lexer": "ipython3",
   "version": "3.11.5"
  }
 },
 "nbformat": 4,
 "nbformat_minor": 2
}
