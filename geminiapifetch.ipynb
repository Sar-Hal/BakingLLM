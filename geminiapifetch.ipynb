{
 "cells": [
  {
   "cell_type": "code",
   "execution_count": 3,
   "metadata": {},
   "outputs": [
    {
     "name": "stdout",
     "output_type": "stream",
     "text": [
      "{\n",
      "  \"sugar\": {\n",
      "    \"original\": \"4 cups\",\n",
      "    \"metric\": \"800g\",\n",
      "    \"imperial\": \"28.22oz\"\n",
      "  },\n",
      "  \"salt\": {\n",
      "    \"original\": \"1 tbsp\",\n",
      "    \"metric\": \"18g\",\n",
      "    \"imperial\": \"0.63oz\"\n",
      "  },\n",
      "  \"oil\": {\n",
      "    \"original\": \"3 drops\",\n",
      "    \"metric\": \"0.15g\",\n",
      "    \"imperial\": \"0.0053oz\"\n",
      "  }\n",
      "}\n"
     ]
    }
   ],
   "source": [
    "import google.generativeai as genai\n",
    "import json\n",
    "import os\n",
    "from dotenv import load_dotenv\n",
    "\n",
    "# Load environment variables\n",
    "load_dotenv()\n",
    "\n",
    "# Set up your API key\n",
    "genai.configure(api_key=os.getenv(\"GEMINI_API_KEY\"))\n",
    "\n",
    "# Define the system prompt\n",
    "system_prompt = (\n",
    "    \"You are an AI assistant that converts ingredient measurements into standard metric and imperial units. \"\n",
    "    \"When responding, return only a JSON object with precise conversions. Ensure accurate unit conversions while \"\n",
    "    \"maintaining the format below:\\n\\n\"\n",
    "    \"{\\n\"\n",
    "    \"  \\\"<ingredient>\\\": {\\n\"\n",
    "    \"    \\\"original\\\": \\\"...<input quantity>\\\",\\n\"\n",
    "    \"    \\\"metric\\\": \\\"...g\\\",\\n\"\n",
    "    \"    \\\"imperial\\\": \\\"...oz\\\"\\n\"\n",
    "    \"  },\\n\"\n",
    "    \"  \\\"<ingredient>\\\": {\\n\"\n",
    "    \"    \\\"original\\\": \\\"... <input quantity>\\\",\\n\"\n",
    "    \"    \\\"metric\\\": \\\"...g\\\",\\n\"\n",
    "    \"    \\\"imperial\\\": \\\"... oz\\\"\\n\"\n",
    "    \"  }\\n\"\n",
    "    \"}\\n\\n\"\n",
    "    \"Do not provide explanations or additional text—return only the JSON output.\"\n",
    ")\n",
    "\n",
    "# Initialize the client\n",
    "client = genai.GenerativeModel(\"gemini-2.0-flash\")\n",
    "\n",
    "# Generate content with embedded system prompt\n",
    "full_prompt = system_prompt + \"\\n\\nConvert 4 cups of sugar, 1 tbsp of salt, 3 drops of oil to standard units. Reply only with valid JSON (without Markdown formatting).\"\n",
    "response = client.generate_content(full_prompt)\n",
    "\n",
    "import re\n",
    "\n",
    "# Extract JSON content if it's wrapped in triple backticks\n",
    "json_text = response.text.strip()\n",
    "if json_text.startswith(\"```json\"):\n",
    "    json_text = re.sub(r\"^```json|```$\", \"\", json_text, flags=re.MULTILINE).strip()\n",
    "\n",
    "# Parse JSON\n",
    "try:\n",
    "    converted_data = json.loads(json_text)\n",
    "    print(json.dumps(converted_data, indent=2))\n",
    "except json.JSONDecodeError:\n",
    "    print(\"Invalid JSON response:\", json_text)\n",
    "\n"
   ]
  },
  {
   "cell_type": "code",
   "execution_count": null,
   "metadata": {},
   "outputs": [],
   "source": []
  }
 ],
 "metadata": {
  "kernelspec": {
   "display_name": "Python 3",
   "language": "python",
   "name": "python3"
  },
  "language_info": {
   "codemirror_mode": {
    "name": "ipython",
    "version": 3
   },
   "file_extension": ".py",
   "mimetype": "text/x-python",
   "name": "python",
   "nbconvert_exporter": "python",
   "pygments_lexer": "ipython3",
   "version": "3.11.5"
  }
 },
 "nbformat": 4,
 "nbformat_minor": 2
}
